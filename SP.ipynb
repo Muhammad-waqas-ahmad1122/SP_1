{
 "cells": [
  {
   "cell_type": "code",
   "execution_count": 80,
   "metadata": {},
   "outputs": [],
   "source": [
    "#-- Importing modules\n",
    "import flopy\n",
    "import numpy as np\n",
    "import pandas as pd\n",
    "import flopy.modflow as fpm\n",
    "import flopy.utils as fpu"
   ]
  },
  {
   "cell_type": "code",
   "execution_count": 81,
   "metadata": {},
   "outputs": [
    {
     "name": "stdout",
     "output_type": "stream",
     "text": [
      "[['x', 'y'], [' 1', '1537.3919', '6482.2855'], [' 2', '1619.4925', '5350.2436'], [' 3', '1189.2087', '4426.7064'], [' 4', '1610.6249', '3517.6656'], [' 5', '95.2641', '2598.2555'], [' 6', '1800.4278', '2359.5935'], [' 7', '78.0893', '1727.8779'], ['8', '1708.18', '1586.7347'], [' 9', '115.4608', '581.3898'], [' 10', '1348.1983', '475.2261'], [' 11', '1909.8702', '-185.123'], [' 12', '1627.0996', '6571.9932'], [' 13', '1709.2002', '5439.9513'], [' 14', '1437.9059', '564.9337'], [' 15', '1537.3919', '6571.9932'], []]\n"
     ]
    }
   ],
   "source": [
    "#--importing data file\n",
    "import csv\n",
    "\n",
    "with open('coord.txt', newline='') as csvfile:\n",
    "    data = list(csv.reader(csvfile))\n",
    "\n",
    "print(data)"
   ]
  },
  {
   "cell_type": "code",
   "execution_count": 82,
   "metadata": {},
   "outputs": [],
   "source": [
    "#-- Defining boundries for DIS package\n",
    "Lx = 1000\n",
    "Ly = 1000\n",
    "nrow = 100\n",
    "ncol = 100\n",
    "top = np.ones((nrow,ncol))\n",
    "botm = np.zeros((nrow,ncol))\n",
    "nlay = 1\n",
    "delr = Ly / ncol\n",
    "delc = Lx / nrow\n",
    "delv = (top - botm) / nlay\n",
    "perlen = 20"
   ]
  },
  {
   "cell_type": "code",
   "execution_count": 83,
   "metadata": {},
   "outputs": [],
   "source": [
    "#--Generating model name\n",
    "model_name = 'Draft_SP'\n",
    "mf = flopy.modflow.Modflow(model_name, exe_name='mf2005')"
   ]
  },
  {
   "cell_type": "code",
   "execution_count": 84,
   "metadata": {},
   "outputs": [],
   "source": [
    "disc = flopy.modflow.ModflowDis(mf, nlay, nrow, ncol, delr=delr, delc=delc,\n",
    "                               top=top, botm = botm, perlen = perlen, nstp = 1)"
   ]
  },
  {
   "cell_type": "code",
   "execution_count": 85,
   "metadata": {},
   "outputs": [],
   "source": [
    "#--Output Control\n",
    "spd = {(0, 0): ['print head', 'print budget', 'save head', 'save budget']}\n",
    "oc = flopy.modflow.ModflowOc(mf, stress_period_data=spd, compact=True)"
   ]
  },
  {
   "cell_type": "code",
   "execution_count": 86,
   "metadata": {},
   "outputs": [],
   "source": [
    "#--BCF File\n",
    "laycon = 0 #confined\n",
    "tran = 1.0 \n",
    "bcf = flopy.modflow.mfbcf.ModflowBcf(mf, laycon = 0, tran = 1)"
   ]
  },
  {
   "cell_type": "code",
   "execution_count": 87,
   "metadata": {},
   "outputs": [],
   "source": [
    "#--Defining Head Boundary Conditions\n",
    "ibound = np.ones((nlay, nrow, ncol), dtype=np.int32)\n",
    "ibound[:, :, 0] = -1\n",
    "ibound[:, :, -1] = -1\n",
    "strt = np.ones((nlay, nrow, ncol), dtype=np.float32)\n",
    "strt[:, :, 0] = 10.\n",
    "strt[:, :, -1] = 0.\n",
    "bas = flopy.modflow.ModflowBas(mf, ibound=ibound, strt=strt)"
   ]
  },
  {
   "cell_type": "code",
   "execution_count": 88,
   "metadata": {},
   "outputs": [],
   "source": [
    "#-- PCG File\n",
    "pcg = flopy.modflow.mfpcg.ModflowPcg(mf, mxiter = 20, iter1 = 30)"
   ]
  },
  {
   "cell_type": "code",
   "execution_count": 106,
   "metadata": {},
   "outputs": [],
   "source": [
    "#chd\n",
    "#[layer, row, column, shead, ehead]\n",
    "\n",
    "chd = 10\n",
    "chd_data = []\n",
    "for c in range(99):\n",
    "    dd = np.array([0, 0, c, chd, chd])\n",
    "    chd_data.append(dd)\n",
    "for c in range(100):\n",
    "    dd = np.array([0, c, 99, chd, chd])\n",
    "    chd_data.append(dd)\n",
    "for c in range(99):\n",
    "    dd = np.array([0, 99, c, chd, chd])\n",
    "    chd_data.append(dd)\n",
    "for c in range(1, 99):\n",
    "    dd = np.array([0, c, 0, chd, chd])\n",
    "    chd_data.append(dd)\n",
    "stress_period_data = {0:chd_data}\n",
    "#stress_period_data"
   ]
  },
  {
   "cell_type": "code",
   "execution_count": 90,
   "metadata": {},
   "outputs": [],
   "source": [
    "#-- Defining Recharge and Well Package\n",
    "injection_rate = 0.1\n",
    "wel = [[0, 152, 647, injection_rate], [0, 160, 534, injection_rate], [0, 117, 441, injection_rate], \n",
    "       [0, 159, 350, injection_rate], [0, 94, 258, injection_rate], [0, 179, 234, injection_rate], [0, 6, 171, injection_rate],\n",
    "      [0, 169, 157, injection_rate], [0, 114, 580, injection_rate], [0, 133, 474, injection_rate], [0, 189, 184, injection_rate],\n",
    "      [0, 161, 656, injection_rate]]\n",
    "stress_period_data = {0 :wel}"
   ]
  },
  {
   "cell_type": "code",
   "execution_count": 91,
   "metadata": {},
   "outputs": [],
   "source": [
    "#-- Linkag with mt3d\n",
    "lmt = flopy.modflow.ModflowLmt(mf, output_file_name = 'mt3d_link.ftl')"
   ]
  },
  {
   "cell_type": "code",
   "execution_count": 92,
   "metadata": {},
   "outputs": [
    {
     "name": "stdout",
     "output_type": "stream",
     "text": [
      "FloPy is using the following  executable to run the model: C:\\WRDAPP\\mf2005.1\\bin\\mf2005.EXE\n",
      "\n",
      "                                  MODFLOW-2005     \n",
      "    U.S. GEOLOGICAL SURVEY MODULAR FINITE-DIFFERENCE GROUND-WATER FLOW MODEL\n",
      "                             Version 1.12.00 2/3/2017                        \n",
      "\n",
      " Using NAME file: Draft_SP.nam \n",
      " Run start date and time (yyyy/mm/dd hh:mm:ss): 2020/08/20 19:54:02\n",
      "\n",
      " Solving:  Stress period:     1    Time step:     1    Ground-Water Flow Eqn.\n",
      " Run end date and time (yyyy/mm/dd hh:mm:ss): 2020/08/20 19:54:02\n",
      " Elapsed run time:  0.146 Seconds\n",
      "\n",
      "  Normal termination of simulation\n"
     ]
    },
    {
     "data": {
      "text/plain": [
       "(True, [])"
      ]
     },
     "execution_count": 92,
     "metadata": {},
     "output_type": "execute_result"
    }
   ],
   "source": [
    "#--Writing Input Files\n",
    "mf.write_input()\n",
    "#--And to run the model\n",
    "mf.run_model()"
   ]
  },
  {
   "cell_type": "code",
   "execution_count": 111,
   "metadata": {},
   "outputs": [
    {
     "name": "stderr",
     "output_type": "stream",
     "text": [
      "C:\\Anaconda3\\lib\\site-packages\\ipykernel_launcher.py:17: UserWarning: Attempting to set identical left == right == 5.0 results in singular transformations; automatically expanding.\n",
      "C:\\Anaconda3\\lib\\site-packages\\ipykernel_launcher.py:17: UserWarning: Attempting to set identical bottom == top == 995.0 results in singular transformations; automatically expanding.\n"
     ]
    },
    {
     "data": {
      "image/png": "[encoded data removed]",
      "text/plain": [
       "<Figure size 432x288 with 2 Axes>"
      ]
     },
     "metadata": {
      "needs_background": "light"
     },
     "output_type": "display_data"
    }
   ],
   "source": [
    "#To Plot Model Reults\n",
    "import matplotlib.pyplot as plt\n",
    "import flopy.utils.binaryfile as bf\n",
    "\n",
    "#To creat the headfile object\n",
    "headobj = bf.HeadFile(model_name + '.hds')\n",
    "head = headobj.get_data(totim = 20)\n",
    "times = headobj.get_times()\n",
    "\n",
    "#To setup contour Parameters\n",
    "levels = np.arange(0, 1000, 5)\n",
    "extent = (delr/2, delc/2, Lx - delc/2, Ly - delr/2)\n",
    "\n",
    "#To make the plots\n",
    "plt.subplot(1,1,1, aspect = 'equal')\n",
    "plt.title('Head Distribution')\n",
    "plt.imshow(head[0,:, :], extent = extent, cmap = 'Blues', vmin = 0, vmax = 1000)\n",
    "plt.colorbar()\n",
    "\n",
    "contours = plt.contour(np.flipud(head[0, :, :]), levels = levels, extent = extent, zorder = 10)\n",
    "plt.clabel(contours, inline = 1, fontsize = 10, fmt = '%d')\n",
    "plt.show()"
   ]
  },
  {
   "cell_type": "code",
   "execution_count": null,
   "metadata": {},
   "outputs": [],
   "source": []
  }
 ],
 "metadata": {
  "kernelspec": {
   "display_name": "Python 3",
   "language": "python",
   "name": "python3"
  },
  "language_info": {
   "codemirror_mode": {
    "name": "ipython",
    "version": 3
   },
   "file_extension": ".py",
   "mimetype": "text/x-python",
   "name": "python",
   "nbconvert_exporter": "python",
   "pygments_lexer": "ipython3",
   "version": "3.7.6"
  }
 },
 "nbformat": 4,
 "nbformat_minor": 4
}
